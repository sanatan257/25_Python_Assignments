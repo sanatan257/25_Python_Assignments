{
 "cells": [
  {
   "cell_type": "markdown",
   "id": "c0cae2ff-1cfe-4773-bb81-e284a1381d2e",
   "metadata": {},
   "source": [
    "# 1. Write a Python program to convert kilometers to miles?"
   ]
  },
  {
   "cell_type": "code",
   "execution_count": 4,
   "id": "c9393bce-f601-4aef-bd5c-38837e5d409d",
   "metadata": {},
   "outputs": [
    {
     "name": "stdin",
     "output_type": "stream",
     "text": [
      "enter the values in km : 25\n"
     ]
    },
    {
     "name": "stdout",
     "output_type": "stream",
     "text": [
      "Values in miles is : 15.534999999999998\n"
     ]
    }
   ],
   "source": [
    "kms=int(input(\"enter the values in km :\"))\n",
    "def kms_into_miles(kms):\n",
    "    miles = kms * 0.6214\n",
    "    print(\"Values in miles is :\", miles)\n",
    "\n",
    "kms_into_miles(kms)"
   ]
  },
  {
   "cell_type": "markdown",
   "id": "aca425c1-ef8d-4637-9f61-cecc5032260e",
   "metadata": {},
   "source": [
    "# 2. Write a Python program to convert Celsius to Fahrenheit?"
   ]
  },
  {
   "cell_type": "code",
   "execution_count": 6,
   "id": "e977264c-c06a-4aeb-a586-f8a28c5f4b96",
   "metadata": {},
   "outputs": [
    {
     "name": "stdin",
     "output_type": "stream",
     "text": [
      "enter the values in celcius : 1\n"
     ]
    },
    {
     "name": "stdout",
     "output_type": "stream",
     "text": [
      "Values in fhrhnt is : 33.8\n"
     ]
    }
   ],
   "source": [
    "celcius=int(input(\"enter the values in celcius :\"))\n",
    "def celcius_into_fhrhnt(celcius):\n",
    "    fhrhnt = celcius * 33.8\n",
    "    print(\"Values in fhrhnt is :\", fhrhnt)\n",
    "\n",
    "celcius_into_fhrhnt(celcius)"
   ]
  },
  {
   "cell_type": "markdown",
   "id": "367a81c9-d7ee-4463-96bf-8a4966a56892",
   "metadata": {},
   "source": [
    "# 3. Write a Python program to display calendar?"
   ]
  },
  {
   "cell_type": "code",
   "execution_count": 7,
   "id": "63114071-527d-480c-9ae7-43edc82df5d5",
   "metadata": {},
   "outputs": [
    {
     "name": "stdin",
     "output_type": "stream",
     "text": [
      "Enter year:  2025\n",
      "Enter month (1-12):  07\n"
     ]
    },
    {
     "name": "stdout",
     "output_type": "stream",
     "text": [
      "     July 2025\n",
      "Mo Tu We Th Fr Sa Su\n",
      "    1  2  3  4  5  6\n",
      " 7  8  9 10 11 12 13\n",
      "14 15 16 17 18 19 20\n",
      "21 22 23 24 25 26 27\n",
      "28 29 30 31\n",
      "\n"
     ]
    }
   ],
   "source": [
    "import calendar\n",
    "\n",
    "def display_calendar(year, month):\n",
    "    return calendar.month(year, month)\n",
    "\n",
    "# Example usage\n",
    "year = int(input(\"Enter year: \"))\n",
    "month = int(input(\"Enter month (1-12): \"))\n",
    "print(display_calendar(year, month))\n"
   ]
  },
  {
   "cell_type": "markdown",
   "id": "35061fcd-aeec-43d1-b8f3-cfc4b9e9e24f",
   "metadata": {},
   "source": [
    "# 4. Write a Python program to solve quadratic equation?"
   ]
  },
  {
   "cell_type": "code",
   "execution_count": 8,
   "id": "31a922ab-0b14-4db2-89e2-6fa834170492",
   "metadata": {},
   "outputs": [
    {
     "name": "stdin",
     "output_type": "stream",
     "text": [
      "Enter coefficient a:  2\n",
      "Enter coefficient b:  1\n",
      "Enter coefficient c:  1\n"
     ]
    },
    {
     "name": "stdout",
     "output_type": "stream",
     "text": [
      "The roots of the quadratic equation are: (-0.25+0.6614378277661477j) and (-0.25-0.6614378277661477j)\n"
     ]
    }
   ],
   "source": [
    "import cmath  # for complex numbers\n",
    "\n",
    "def solve_quadratic(a, b, c):\n",
    "    d = (b**2) - (4*a*c)  # discriminant\n",
    "    root1 = (-b + cmath.sqrt(d)) / (2*a)\n",
    "    root2 = (-b - cmath.sqrt(d)) / (2*a)\n",
    "    return root1, root2\n",
    "\n",
    "# Example usage\n",
    "a = float(input(\"Enter coefficient a: \"))\n",
    "b = float(input(\"Enter coefficient b: \"))\n",
    "c = float(input(\"Enter coefficient c: \"))\n",
    "\n",
    "roots = solve_quadratic(a, b, c)\n",
    "print(f\"The roots of the quadratic equation are: {roots[0]} and {roots[1]}\")\n"
   ]
  },
  {
   "cell_type": "markdown",
   "id": "229771b0-bc49-4216-9ff1-7712d40cdb9f",
   "metadata": {},
   "source": [
    "# 5. Write a Python program to swap two variables without temp variable?"
   ]
  },
  {
   "cell_type": "code",
   "execution_count": 10,
   "id": "771ee10b-97a0-483a-9b86-af8b9f36ff88",
   "metadata": {},
   "outputs": [
    {
     "name": "stdin",
     "output_type": "stream",
     "text": [
      "Enter first number:  85\n",
      "Enter second number:  74\n"
     ]
    },
    {
     "name": "stdout",
     "output_type": "stream",
     "text": [
      "After swapping: x = 74  y = 85\n"
     ]
    }
   ],
   "source": [
    "def swap(a,b):\n",
    "    a, b = b, a\n",
    "    return a, b\n",
    "\n",
    "x = int(input(\"Enter first number: \"))\n",
    "y = int(input(\"Enter second number: \"))\n",
    "\n",
    "x, y = swap(x,y)\n",
    "print(\"After swapping: x =\", x, \" y =\", y)\n",
    "    "
   ]
  },
  {
   "cell_type": "code",
   "execution_count": null,
   "id": "a4aed27e-6872-4c4a-9775-f177a0d91ceb",
   "metadata": {},
   "outputs": [],
   "source": []
  }
 ],
 "metadata": {
  "kernelspec": {
   "display_name": "Python 3 (ipykernel)",
   "language": "python",
   "name": "python3"
  },
  "language_info": {
   "codemirror_mode": {
    "name": "ipython",
    "version": 3
   },
   "file_extension": ".py",
   "mimetype": "text/x-python",
   "name": "python",
   "nbconvert_exporter": "python",
   "pygments_lexer": "ipython3",
   "version": "3.11.7"
  }
 },
 "nbformat": 4,
 "nbformat_minor": 5
}
