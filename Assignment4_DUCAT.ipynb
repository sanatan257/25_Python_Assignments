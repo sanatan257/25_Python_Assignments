{
 "cells": [
  {
   "cell_type": "markdown",
   "id": "52538e2a-2983-4c58-978d-a340a369362f",
   "metadata": {},
   "source": [
    "# 1. Write a Python Program to Find the Factorial of a Number?\n"
   ]
  },
  {
   "cell_type": "code",
   "execution_count": 1,
   "id": "f8be9d28-1170-4068-a5d6-c37ff2844678",
   "metadata": {},
   "outputs": [
    {
     "name": "stdin",
     "output_type": "stream",
     "text": [
      "Enter the number 5\n"
     ]
    },
    {
     "name": "stdout",
     "output_type": "stream",
     "text": [
      "Factorial is: 120\n"
     ]
    }
   ],
   "source": [
    "num = int(input(\"Enter the number\"))\n",
    "factorial = 1\n",
    "\n",
    "for i in range (1, num + 1):\n",
    "    factorial = factorial*i\n",
    "    \n",
    "print(\"Factorial is:\", factorial)"
   ]
  },
  {
   "cell_type": "markdown",
   "id": "21293d46-b7d1-485c-8702-de7313f51a2a",
   "metadata": {},
   "source": [
    "# 2. Write a Python Program to Display the multiplication Table?\n"
   ]
  },
  {
   "cell_type": "code",
   "execution_count": 2,
   "id": "0a09bf0d-98cc-4544-b2f7-38856df9b521",
   "metadata": {},
   "outputs": [
    {
     "name": "stdin",
     "output_type": "stream",
     "text": [
      "Enter the number 5\n"
     ]
    },
    {
     "name": "stdout",
     "output_type": "stream",
     "text": [
      "5 X 1 = 5\n",
      "5 X 2 = 10\n",
      "5 X 3 = 15\n",
      "5 X 4 = 20\n",
      "5 X 5 = 25\n",
      "5 X 6 = 30\n",
      "5 X 7 = 35\n",
      "5 X 8 = 40\n",
      "5 X 9 = 45\n",
      "5 X 10 = 50\n"
     ]
    }
   ],
   "source": [
    "enter_num = int(input(\"Enter the number\"))\n",
    "for i in range (1,11):\n",
    "    print(f\"{enter_num} X {i} = {enter_num * i}\")"
   ]
  },
  {
   "cell_type": "raw",
   "id": "1c15470c-c686-41bf-8d3b-d7c2fe8366aa",
   "metadata": {},
   "source": [
    "# 3. Write a Python Program to Print the Fibonacci sequence?\n"
   ]
  },
  {
   "cell_type": "code",
   "execution_count": 14,
   "id": "aca566b6-0eb3-49cd-a51f-03efab42de33",
   "metadata": {},
   "outputs": [
    {
     "name": "stdin",
     "output_type": "stream",
     "text": [
      "Enter the number of terms:  5\n"
     ]
    },
    {
     "name": "stdout",
     "output_type": "stream",
     "text": [
      "0 1 1 2 3 "
     ]
    }
   ],
   "source": [
    "n = int(input(\"Enter the number of terms: \"))\n",
    "a, b = 0, 1\n",
    "\n",
    "for _ in range(n):\n",
    "    print(a, end=\" \")\n",
    "    a, b = b, a + b"
   ]
  },
  {
   "cell_type": "markdown",
   "id": "8a184717-2c0b-4abe-9850-e00cf70a897a",
   "metadata": {},
   "source": [
    "# 4. Write a Python Program to Check Armstrong Number?\n"
   ]
  },
  {
   "cell_type": "code",
   "execution_count": 10,
   "id": "31f0f603-317a-411b-a139-6105a8755456",
   "metadata": {},
   "outputs": [
    {
     "name": "stdin",
     "output_type": "stream",
     "text": [
      "Enter number 124\n"
     ]
    },
    {
     "name": "stdout",
     "output_type": "stream",
     "text": [
      "124 is Armstrong? False\n"
     ]
    }
   ],
   "source": [
    "def is_armstrong(num):\n",
    "    power = len(str(num))\n",
    "    total = sum(int(digit) ** power for digit in str(num))\n",
    "    return total == num\n",
    "\n",
    "# Example\n",
    "num = int(input(\"Enter number\"))\n",
    "print(num, \"is Armstrong?\", is_armstrong(num))\n"
   ]
  },
  {
   "cell_type": "markdown",
   "id": "ddea387c-cbd1-478e-9d14-520af4c07d39",
   "metadata": {},
   "source": [
    "# 5. Write a Python Program to Find Armstrong Number in an Interval?\n"
   ]
  },
  {
   "cell_type": "code",
   "execution_count": 11,
   "id": "d427d9f8-4659-48ad-b112-bb3363ab741e",
   "metadata": {},
   "outputs": [
    {
     "name": "stdout",
     "output_type": "stream",
     "text": [
      "153 370 371 407 "
     ]
    }
   ],
   "source": [
    "def armstrong_in_interval(start, end):\n",
    "    for num in range(start, end + 1):\n",
    "        if is_armstrong(num):\n",
    "            print(num, end=\" \")\n",
    "\n",
    "# Example\n",
    "armstrong_in_interval(100, 1000)\n"
   ]
  },
  {
   "cell_type": "markdown",
   "id": "b1ca23be-70a6-4edf-90ac-4fe4da65c4ee",
   "metadata": {},
   "source": [
    "# 6. Write a Python Program to Find the Sum of Natural Numbers"
   ]
  },
  {
   "cell_type": "code",
   "execution_count": 18,
   "id": "edcb9470-3f8a-4e06-a724-0359525e7eca",
   "metadata": {},
   "outputs": [
    {
     "name": "stdin",
     "output_type": "stream",
     "text": [
      "Enter number 5\n"
     ]
    },
    {
     "name": "stdout",
     "output_type": "stream",
     "text": [
      "Sum of first 5 natural numbers is 15\n"
     ]
    }
   ],
   "source": [
    "def sum_natural(n):\n",
    "    return n * (n + 1) // 2\n",
    "\n",
    "# Example\n",
    "num = int(input(\"Enter number\"))\n",
    "print(\"Sum of first\", num, \"natural numbers is\", sum_natural(num))\n"
   ]
  },
  {
   "cell_type": "code",
   "execution_count": null,
   "id": "e65057f8-28f1-459c-bdce-389a2030576f",
   "metadata": {},
   "outputs": [],
   "source": []
  }
 ],
 "metadata": {
  "kernelspec": {
   "display_name": "Python 3 (ipykernel)",
   "language": "python",
   "name": "python3"
  },
  "language_info": {
   "codemirror_mode": {
    "name": "ipython",
    "version": 3
   },
   "file_extension": ".py",
   "mimetype": "text/x-python",
   "name": "python",
   "nbconvert_exporter": "python",
   "pygments_lexer": "ipython3",
   "version": "3.11.7"
  }
 },
 "nbformat": 4,
 "nbformat_minor": 5
}
