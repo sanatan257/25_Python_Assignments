{
 "cells": [
  {
   "cell_type": "markdown",
   "id": "4d48fee1-5dba-45f3-8cf8-e21720b16ccb",
   "metadata": {},
   "source": [
    "# 1. Write a Python program to print \"Hello Python\"?"
   ]
  },
  {
   "cell_type": "code",
   "execution_count": 5,
   "id": "675e1504-c180-4b86-9283-d216f1c5149a",
   "metadata": {},
   "outputs": [
    {
     "name": "stdout",
     "output_type": "stream",
     "text": [
      "Hello Python\n"
     ]
    }
   ],
   "source": [
    "def print_hello():\n",
    "    print(\"Hello Python\")\n",
    "\n",
    "print_hello()\n",
    "\n"
   ]
  },
  {
   "cell_type": "code",
   "execution_count": 8,
   "id": "0de4e5bd-83a0-4443-b389-67dca14379f0",
   "metadata": {},
   "outputs": [
    {
     "name": "stdout",
     "output_type": "stream",
     "text": [
      "Hello Python\n"
     ]
    }
   ],
   "source": [
    "def my_new_hello (message):\n",
    "    print(message)\n",
    "\n",
    "my_new_hello(\"Hello Python\")"
   ]
  },
  {
   "cell_type": "markdown",
   "id": "4c73bd7b-e73a-4308-873b-08ccd0ba4557",
   "metadata": {},
   "source": [
    "# 2. Write a Python program to do arithmetical operations addition and division.?"
   ]
  },
  {
   "cell_type": "code",
   "execution_count": 15,
   "id": "6ce139ef-c141-4198-9549-289e32058295",
   "metadata": {},
   "outputs": [
    {
     "name": "stdin",
     "output_type": "stream",
     "text": [
      "Enter value of a:  16\n",
      "Enter value of b:  4\n"
     ]
    },
    {
     "name": "stdout",
     "output_type": "stream",
     "text": [
      "Addition is: 20\n",
      "Division is: 4.0\n"
     ]
    }
   ],
   "source": [
    "def Arth_prog(a,b):\n",
    "    print(\"Addition is:\", a + b )\n",
    "    print(\"Division is:\", a / b)\n",
    "\n",
    "A_input = int(input(\"Enter value of a: \"))\n",
    "B_input = int(input(\"Enter value of b: \"))\n",
    "Arth_prog(a=A_input,b= B_input)\n"
   ]
  },
  {
   "cell_type": "markdown",
   "id": "baf809df-fa25-4aa6-99e7-02822ffe1ce2",
   "metadata": {},
   "source": [
    "# 3. Write a Python program to find the area of a triangle?"
   ]
  },
  {
   "cell_type": "code",
   "execution_count": 17,
   "id": "e00a6eae-e64a-4c50-95f1-bb4adc6508c0",
   "metadata": {},
   "outputs": [
    {
     "name": "stdin",
     "output_type": "stream",
     "text": [
      "Base of triangle is : 15\n",
      "Height of triangle is : 10\n"
     ]
    },
    {
     "name": "stdout",
     "output_type": "stream",
     "text": [
      "area of triangle is : 75.0\n"
     ]
    }
   ],
   "source": [
    "base = int(input(\"Base of triangle is :\"))\n",
    "height = int(input(\"Height of triangle is :\"))\n",
    "\n",
    "def Triangle_area(base, height):\n",
    "    area = 0.5 * base * height\n",
    "    print(\"area of triangle is :\", area)\n",
    "\n",
    "Triangle_area(base, height)"
   ]
  },
  {
   "cell_type": "markdown",
   "id": "ce2a990a-eec7-45aa-abb3-f0e5bf0c7fc1",
   "metadata": {},
   "source": [
    "# 4. Write a Python program to swap two variables?"
   ]
  },
  {
   "cell_type": "code",
   "execution_count": 18,
   "id": "d1323428-748c-402e-a441-430b6b7100ff",
   "metadata": {},
   "outputs": [],
   "source": [
    "def swap_variables(x, y):\n",
    "    print(\"Before swapping: x =\", x, \" y =\", y)\n",
    "    x, y = y, x\n",
    "    print(\"After swapping: x =\", x, \" y =\", y)"
   ]
  },
  {
   "cell_type": "code",
   "execution_count": 20,
   "id": "40a559a9-8f7d-4c91-8aab-4f181819b0c6",
   "metadata": {},
   "outputs": [
    {
     "name": "stdout",
     "output_type": "stream",
     "text": [
      "Before swapping: x = 10  y = 2\n",
      "After swapping: x = 2  y = 10\n"
     ]
    }
   ],
   "source": [
    "swap_variables(10,2)"
   ]
  },
  {
   "cell_type": "markdown",
   "id": "705b65ad-d5df-4c35-8e64-40cfaa496af5",
   "metadata": {},
   "source": [
    "# 5. Write a Python program to generate a random number?"
   ]
  },
  {
   "cell_type": "code",
   "execution_count": 28,
   "id": "d356f53b-94f1-47d0-82c4-cf92728c3cdc",
   "metadata": {},
   "outputs": [],
   "source": [
    "import random"
   ]
  },
  {
   "cell_type": "code",
   "execution_count": 30,
   "id": "0489b3ac-4d7a-43bc-9d83-264024aae657",
   "metadata": {},
   "outputs": [
    {
     "name": "stdout",
     "output_type": "stream",
     "text": [
      "Random Number: 97\n"
     ]
    }
   ],
   "source": [
    "def generate_random():\n",
    "    random_number = random.randint(1, 100)\n",
    "    print(\"Random Number:\", random_number)\n",
    "\n",
    "generate_random()"
   ]
  }
 ],
 "metadata": {
  "kernelspec": {
   "display_name": "Python 3 (ipykernel)",
   "language": "python",
   "name": "python3"
  },
  "language_info": {
   "codemirror_mode": {
    "name": "ipython",
    "version": 3
   },
   "file_extension": ".py",
   "mimetype": "text/x-python",
   "name": "python",
   "nbconvert_exporter": "python",
   "pygments_lexer": "ipython3",
   "version": "3.11.7"
  }
 },
 "nbformat": 4,
 "nbformat_minor": 5
}
