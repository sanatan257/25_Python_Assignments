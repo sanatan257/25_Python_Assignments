{
 "cells": [
  {
   "cell_type": "markdown",
   "id": "d1f59877-fe36-4168-9c78-8d9e97ac9183",
   "metadata": {},
   "source": [
    "# 1. Write a Python Program to Find LCM?"
   ]
  },
  {
   "cell_type": "code",
   "execution_count": 3,
   "id": "ea8fccd7-20f0-4ffc-8891-473aae78641e",
   "metadata": {},
   "outputs": [
    {
     "name": "stdin",
     "output_type": "stream",
     "text": [
      "Enter the first number 12\n",
      "Enter the second number 15\n"
     ]
    },
    {
     "name": "stdout",
     "output_type": "stream",
     "text": [
      "Lcm of 12 and 15 is 60\n"
     ]
    }
   ],
   "source": [
    "x=int(input(\"Enter the first number\"))\n",
    "y=int(input(\"Enter the second number\"))\n",
    "\n",
    "def find_lcm(x,y):\n",
    "    if x > y:\n",
    "        greater = x\n",
    "    else:\n",
    "        greater = y\n",
    "    while  True:\n",
    "        if (greater % x ==0) and (greater % y ==0):\n",
    "            lcm=greater\n",
    "            break\n",
    "        greater += 1\n",
    "    return lcm\n",
    "\n",
    "print(\"Lcm of\", x, \"and\", y, \"is\",find_lcm(x,y))"
   ]
  },
  {
   "cell_type": "markdown",
   "id": "9a275834-7e12-4502-8659-2050c5ba2da8",
   "metadata": {},
   "source": [
    "# 2. Python Program to Find HCF"
   ]
  },
  {
   "cell_type": "code",
   "execution_count": 4,
   "id": "5947bb65-4855-4545-947d-bada89b9c09d",
   "metadata": {},
   "outputs": [
    {
     "name": "stdin",
     "output_type": "stream",
     "text": [
      "Enter the first number 15\n",
      "Enter the second number 5\n"
     ]
    },
    {
     "name": "stdout",
     "output_type": "stream",
     "text": [
      "The HCF of 15 and 5 is 5\n"
     ]
    }
   ],
   "source": [
    "x=int(input(\"Enter the first number\"))\n",
    "y=int(input(\"Enter the second number\"))\n",
    "\n",
    "def find_hcf(x, y):\n",
    "    while y:\n",
    "        x, y = y, x % y\n",
    "    return x\n",
    "\n",
    "print(\"The HCF of\", x, \"and\", y, \"is\", find_hcf(x,y))\n"
   ]
  },
  {
   "cell_type": "markdown",
   "id": "1c743675-77b9-4687-8e0f-194b484ff0b6",
   "metadata": {},
   "source": [
    "# 3. Python Program to Convert Decimal to Binary, Octal and Hexadecimal"
   ]
  },
  {
   "cell_type": "code",
   "execution_count": 5,
   "id": "d973f35a-50e7-4995-b751-62bcb6178073",
   "metadata": {},
   "outputs": [
    {
     "name": "stdin",
     "output_type": "stream",
     "text": [
      "Enter the decimal 25\n"
     ]
    },
    {
     "name": "stdout",
     "output_type": "stream",
     "text": [
      "The decimal value of 25 is:\n",
      "Binary: 0b11001\n",
      "Octal: 0o31\n",
      "Hexadecimal: 0x19\n"
     ]
    }
   ],
   "source": [
    "dec = int(input(\"Enter the decimal\"))\n",
    "# Convert Decimal to Binary, Octal and Hexadecimal\n",
    "\n",
    "\n",
    "print(\"The decimal value of\", dec, \"is:\")\n",
    "print(\"Binary:\", bin(dec))\n",
    "print(\"Octal:\", oct(dec))\n",
    "print(\"Hexadecimal:\", hex(dec))\n"
   ]
  },
  {
   "cell_type": "markdown",
   "id": "7f34f6d9-3cb6-4e32-aec8-f9cb7c554ef4",
   "metadata": {},
   "source": [
    "# 4. Python Program To Find ASCII Value of a Character"
   ]
  },
  {
   "cell_type": "code",
   "execution_count": 13,
   "id": "6daa591d-7de5-4324-a453-7e4fda4fc376",
   "metadata": {},
   "outputs": [
    {
     "name": "stdout",
     "output_type": "stream",
     "text": [
      "The ASCII value of a is 97\n"
     ]
    }
   ],
   "source": [
    "ch = 'a'                        # Store a character\n",
    "print(\"The ASCII value of\", ch, \"is\", ord(ch))   # ord() gives ASCII value\n"
   ]
  },
  {
   "cell_type": "markdown",
   "id": "e50cb948-6298-4799-9896-06317e3da8a1",
   "metadata": {},
   "source": [
    "# 5. Python Program to Make a Simple Calculator"
   ]
  },
  {
   "cell_type": "code",
   "execution_count": 16,
   "id": "2cd1e11a-8ae5-42b3-a8c2-2add25df19ce",
   "metadata": {},
   "outputs": [
    {
     "name": "stdin",
     "output_type": "stream",
     "text": [
      "enter the num1 15\n",
      "enter the num2 2\n"
     ]
    },
    {
     "name": "stdout",
     "output_type": "stream",
     "text": [
      "Addition: 17\n",
      "Subtraction: 13\n",
      "Multiplication: 30\n",
      "Division: 7.5\n"
     ]
    }
   ],
   "source": [
    "# Simple Calculator with 4 operations\n",
    "def add(x, y):\n",
    "    return x + y\n",
    "\n",
    "def subtract(x, y):\n",
    "    return x - y\n",
    "\n",
    "def multiply(x, y):\n",
    "    return x * y\n",
    "\n",
    "def divide(x, y):\n",
    "    return x / y if y != 0 else \"Error! Division by zero.\"\n",
    "\n",
    "# Example usage\n",
    "num1 = int(input(\"enter the num1\"))\n",
    "num2 = int(input(\"enter the num2\"))\n",
    "\n",
    "print(\"Addition:\", add(num1, num2))\n",
    "print(\"Subtraction:\", subtract(num1, num2))\n",
    "print(\"Multiplication:\", multiply(num1, num2))\n",
    "print(\"Division:\", divide(num1, num2))\n"
   ]
  },
  {
   "cell_type": "code",
   "execution_count": null,
   "id": "08c3c9eb-476a-4465-b766-df5fb073bea0",
   "metadata": {},
   "outputs": [],
   "source": []
  }
 ],
 "metadata": {
  "kernelspec": {
   "display_name": "Python 3 (ipykernel)",
   "language": "python",
   "name": "python3"
  },
  "language_info": {
   "codemirror_mode": {
    "name": "ipython",
    "version": 3
   },
   "file_extension": ".py",
   "mimetype": "text/x-python",
   "name": "python",
   "nbconvert_exporter": "python",
   "pygments_lexer": "ipython3",
   "version": "3.11.7"
  }
 },
 "nbformat": 4,
 "nbformat_minor": 5
}
