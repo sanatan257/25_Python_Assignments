{
 "cells": [
  {
   "cell_type": "markdown",
   "id": "6032f77f-0596-4f13-ad29-bfcc6489c327",
   "metadata": {},
   "source": [
    "# 1. Python Program to Find Sum of Array."
   ]
  },
  {
   "cell_type": "code",
   "execution_count": 5,
   "id": "3c345b2f-1220-43da-9c23-3383b2ee0a55",
   "metadata": {},
   "outputs": [
    {
     "name": "stdout",
     "output_type": "stream",
     "text": [
      "Sum of array: 15\n"
     ]
    },
    {
     "data": {
      "text/plain": [
       "list"
      ]
     },
     "execution_count": 5,
     "metadata": {},
     "output_type": "execute_result"
    }
   ],
   "source": [
    "def Sum_Array(arr):\n",
    "    total = 0\n",
    "    for i in arr:\n",
    "        total +=i\n",
    "    return total\n",
    "\n",
    "arr= [1,2,3,4,5]\n",
    "print(\"Sum of array:\", Sum_Array(arr))\n",
    "type(arr)"
   ]
  },
  {
   "cell_type": "markdown",
   "id": "a9f13736-77fe-4e09-ad16-6355adf1e9ac",
   "metadata": {},
   "source": [
    "# 2. Python Program to Find Largest Element in an Array"
   ]
  },
  {
   "cell_type": "code",
   "execution_count": 7,
   "id": "d36b192e-1b08-49e7-bd19-7087979ef955",
   "metadata": {},
   "outputs": [
    {
     "name": "stdout",
     "output_type": "stream",
     "text": [
      "Largest element: 99\n"
     ]
    }
   ],
   "source": [
    "def largest_element(arr):\n",
    "    largest = arr[0]\n",
    "    for i in arr:\n",
    "        if i > largest:\n",
    "            largest = i\n",
    "    return largest\n",
    "\n",
    "arr = [10, 25, 5, 99, 45]\n",
    "print(\"Largest element:\", largest_element(arr))\n",
    "            "
   ]
  },
  {
   "cell_type": "markdown",
   "id": "4b2577ab-b14f-464a-91f8-19cb082fe5e8",
   "metadata": {},
   "source": [
    "# 3. Python Program for Array Rotation"
   ]
  },
  {
   "cell_type": "code",
   "execution_count": 8,
   "id": "10f36d96-ec89-4284-8e1b-6a050b8380a1",
   "metadata": {},
   "outputs": [
    {
     "name": "stdout",
     "output_type": "stream",
     "text": [
      "Array after rotation: [3, 4, 5, 6, 7, 1, 2]\n"
     ]
    }
   ],
   "source": [
    "def rotate_array(arr, d):\n",
    "    n = len(arr)\n",
    "    d = d % n                     # Handle if d > n\n",
    "    return arr[d:] + arr[:d]      # Slice and join\n",
    "\n",
    "# Example\n",
    "arr = [1, 2, 3, 4, 5, 6, 7]\n",
    "d = 2\n",
    "print(\"Array after rotation:\", rotate_array(arr, d))\n"
   ]
  },
  {
   "cell_type": "markdown",
   "id": "1ebc4348-762a-4fcb-a3dc-21d3c0ae7d64",
   "metadata": {},
   "source": [
    "# 4. Python Program to Split Array and Add First Part to End"
   ]
  },
  {
   "cell_type": "code",
   "execution_count": 9,
   "id": "8ffc5245-f35f-4274-b344-359b12912840",
   "metadata": {},
   "outputs": [
    {
     "name": "stdout",
     "output_type": "stream",
     "text": [
      "Array after split and add: [40, 50, 60, 10, 20, 30]\n"
     ]
    }
   ],
   "source": [
    "def split_and_add(arr, k):\n",
    "    return arr[k:] + arr[:k]      # Same logic as rotation\n",
    "\n",
    "# Example\n",
    "arr = [10, 20, 30, 40, 50, 60]\n",
    "k = 3\n",
    "print(\"Array after split and add:\", split_and_add(arr, k))\n"
   ]
  },
  {
   "cell_type": "markdown",
   "id": "30cb1a79-7bf9-454b-917b-dd8f6626d001",
   "metadata": {},
   "source": [
    "# 5. Python Program to Check if Array is Monotonic"
   ]
  },
  {
   "cell_type": "code",
   "execution_count": 10,
   "id": "c9cf75e0-d2e6-4513-a6b8-60a18e28ba7e",
   "metadata": {},
   "outputs": [
    {
     "name": "stdout",
     "output_type": "stream",
     "text": [
      "arr1 monotonic? True\n",
      "arr2 monotonic? True\n",
      "arr3 monotonic? False\n"
     ]
    }
   ],
   "source": [
    "def is_monotonic(arr):\n",
    "    increasing = decreasing = True\n",
    "\n",
    "    for i in range(1, len(arr)):\n",
    "        if arr[i] < arr[i-1]:       # If any element decreases\n",
    "            increasing = False\n",
    "        if arr[i] > arr[i-1]:       # If any element increases\n",
    "            decreasing = False\n",
    "\n",
    "    return increasing or decreasing\n",
    "\n",
    "# Example\n",
    "arr1 = [1, 2, 2, 3, 4]   # Increasing\n",
    "arr2 = [6, 5, 4, 4, 1]   # Decreasing\n",
    "arr3 = [1, 3, 2]         # Not monotonic\n",
    "\n",
    "print(\"arr1 monotonic?\", is_monotonic(arr1))\n",
    "print(\"arr2 monotonic?\", is_monotonic(arr2))\n",
    "print(\"arr3 monotonic?\", is_monotonic(arr3))\n"
   ]
  },
  {
   "cell_type": "code",
   "execution_count": null,
   "id": "0f076aa9-3867-4140-a92e-559a8b4ddfc6",
   "metadata": {},
   "outputs": [],
   "source": []
  }
 ],
 "metadata": {
  "kernelspec": {
   "display_name": "Python 3 (ipykernel)",
   "language": "python",
   "name": "python3"
  },
  "language_info": {
   "codemirror_mode": {
    "name": "ipython",
    "version": 3
   },
   "file_extension": ".py",
   "mimetype": "text/x-python",
   "name": "python",
   "nbconvert_exporter": "python",
   "pygments_lexer": "ipython3",
   "version": "3.11.7"
  }
 },
 "nbformat": 4,
 "nbformat_minor": 5
}
