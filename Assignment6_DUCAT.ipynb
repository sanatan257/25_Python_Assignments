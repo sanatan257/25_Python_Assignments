{
 "cells": [
  {
   "cell_type": "markdown",
   "id": "8134169a-6ade-46d0-8817-c2544dd39ce5",
   "metadata": {},
   "source": [
    "# 1. Write a Python Program to Display Fibonacci Sequence Using Recursion?"
   ]
  },
  {
   "cell_type": "code",
   "execution_count": 1,
   "id": "9c5d008a-9d61-48c5-b3fd-181ee9145d86",
   "metadata": {},
   "outputs": [
    {
     "name": "stdout",
     "output_type": "stream",
     "text": [
      "Fibonacci sequence:\n",
      "0 1 1 2 3 5 8 13 21 34 "
     ]
    }
   ],
   "source": [
    "def fibonacci(n):                    # Recursive function\n",
    "    if n <= 0:                       # If n is 0 or negative\n",
    "        return 0\n",
    "    elif n == 1:                     # Base case: Fibonacci(1) = 1\n",
    "        return 1\n",
    "    else:                            # Recursive case\n",
    "        return fibonacci(n-1) + fibonacci(n-2)\n",
    "\n",
    "# Example usage\n",
    "terms = 10                           # Number of terms\n",
    "print(\"Fibonacci sequence:\")\n",
    "for i in range(terms):\n",
    "    print(fibonacci(i), end=\" \")\n"
   ]
  },
  {
   "cell_type": "markdown",
   "id": "2febc6a3-fd13-4681-97aa-738d5c5aac1e",
   "metadata": {},
   "source": [
    "# 2. Write a Python Program to Find Factorial of Number Using Recursion?"
   ]
  },
  {
   "cell_type": "code",
   "execution_count": 6,
   "id": "82bdd3ec-cc1b-495b-9df9-5723f1398ba2",
   "metadata": {},
   "outputs": [
    {
     "name": "stdin",
     "output_type": "stream",
     "text": [
      "Enter the number 5\n"
     ]
    },
    {
     "name": "stdout",
     "output_type": "stream",
     "text": [
      "Factorial of 5 is 120\n"
     ]
    }
   ],
   "source": [
    "def factorial(n):\n",
    "    if n == 0 or n == 1:\n",
    "        return 1\n",
    "    else:\n",
    "        return n* factorial(n-1)\n",
    "\n",
    "num = int(input(\"Enter the number\"))\n",
    "print(\"Factorial of\", num, \"is\", factorial(num))\n",
    "    \n"
   ]
  },
  {
   "cell_type": "markdown",
   "id": "a351b406-ccc6-4745-b8d4-4de7721b4128",
   "metadata": {},
   "source": [
    "# 3. Write a Python Program to calculate your Body Mass Index? "
   ]
  },
  {
   "cell_type": "code",
   "execution_count": 10,
   "id": "1c5bae01-045c-41ff-bfe8-f0afe95bb709",
   "metadata": {},
   "outputs": [
    {
     "name": "stdin",
     "output_type": "stream",
     "text": [
      "Enter your weight in kg : 70\n",
      "Enter your heights in metre : 1.75\n"
     ]
    },
    {
     "name": "stdout",
     "output_type": "stream",
     "text": [
      "Your BMI is: 22.86\n"
     ]
    }
   ],
   "source": [
    "weight = float(input(\"Enter your weight in kg :\"))\n",
    "height = float(input(\"Enter your heights in metre :\"))\n",
    "\n",
    "BMI = weight/(height ** 2)\n",
    "print(\"Your BMI is:\", round(BMI, 2))"
   ]
  },
  {
   "cell_type": "code",
   "execution_count": null,
   "id": "ad31e646-22a1-4d55-90e6-73a2e93d0cc9",
   "metadata": {},
   "outputs": [],
   "source": [
    "# 4. Write a Python Program to calculate the natural logarithm of any number? "
   ]
  },
  {
   "cell_type": "code",
   "execution_count": 12,
   "id": "a3cff1e6-693c-454d-8d9a-9508ef78103b",
   "metadata": {},
   "outputs": [
    {
     "name": "stdin",
     "output_type": "stream",
     "text": [
      "Enter the number : 10\n"
     ]
    },
    {
     "data": {
      "text/plain": [
       "2.302585092994046"
      ]
     },
     "execution_count": 12,
     "metadata": {},
     "output_type": "execute_result"
    }
   ],
   "source": [
    "import math\n",
    "num = int(input(\"Enter the number :\"))\n",
    "math.log(num)"
   ]
  },
  {
   "cell_type": "code",
   "execution_count": null,
   "id": "277a4409-028e-4fd1-83df-9a5073c26190",
   "metadata": {},
   "outputs": [],
   "source": [
    "# 5. Write a Python Program for cube sum of first n natural numbers?"
   ]
  },
  {
   "cell_type": "code",
   "execution_count": 13,
   "id": "ca95a14d-e2c9-4dce-9745-3322eda52936",
   "metadata": {},
   "outputs": [
    {
     "name": "stdout",
     "output_type": "stream",
     "text": [
      "Cube sum of first 5 natural numbers is: 225\n"
     ]
    }
   ],
   "source": [
    "def cube_sum(n):\n",
    "    total = 0\n",
    "    for i in range(1, n+1):           # Loop from 1 to n\n",
    "        total += i**3                 # Add cube of each number\n",
    "    return total\n",
    "\n",
    "# Example usage\n",
    "n = 5\n",
    "print(\"Cube sum of first\", n, \"natural numbers is:\", cube_sum(n))\n"
   ]
  },
  {
   "cell_type": "code",
   "execution_count": null,
   "id": "c6c96e42-e369-435e-b992-9820b6825222",
   "metadata": {},
   "outputs": [],
   "source": []
  }
 ],
 "metadata": {
  "kernelspec": {
   "display_name": "Python 3 (ipykernel)",
   "language": "python",
   "name": "python3"
  },
  "language_info": {
   "codemirror_mode": {
    "name": "ipython",
    "version": 3
   },
   "file_extension": ".py",
   "mimetype": "text/x-python",
   "name": "python",
   "nbconvert_exporter": "python",
   "pygments_lexer": "ipython3",
   "version": "3.11.7"
  }
 },
 "nbformat": 4,
 "nbformat_minor": 5
}
